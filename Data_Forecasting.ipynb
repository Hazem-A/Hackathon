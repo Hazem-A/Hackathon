{
 "cells": [
  {
   "cell_type": "markdown",
   "metadata": {
    "pycharm": {
     "name": "#%% md\n"
    }
   },
   "source": [
    "The first thing that must be done here before anything else is to import all the relevant libraries."
   ]
  },
  {
   "cell_type": "code",
   "execution_count": 1,
   "metadata": {
    "pycharm": {
     "name": "#%%\n"
    }
   },
   "outputs": [],
   "source": [
    "import pandas as pd\n",
    "import numpy as np\n",
    "import sklearn as sk\n",
    "from sklearn import linear_model\n"
   ]
  },
  {
   "cell_type": "markdown",
   "metadata": {
    "pycharm": {
     "name": "#%% md\n"
    }
   },
   "source": [
    "Next thing that must be done here is to read the data and filter out the data that we don't need"
   ]
  },
  {
   "cell_type": "code",
   "execution_count": 17,
   "metadata": {
    "pycharm": {
     "name": "#%%\n"
    }
   },
   "outputs": [],
   "source": [
    "cloud_covering = pd.read_csv(\"ninja_weather_country_CA.AB_merra-2_population_weighted.csv\",low_memory=False);\n",
    "consumer_activity = pd.read_csv(\"stc_18-10-0004-01_consumer_price_index_csv_v43.0_2022-04-20.csv\")\n",
    "energy_generation = pd.read_csv(\"features (1).csv\")"
   ]
  },
  {
   "cell_type": "markdown",
   "metadata": {
    "pycharm": {
     "name": "#%% md\n"
    }
   },
   "source": []
  },
  {
   "cell_type": "code",
   "execution_count": 27,
   "metadata": {
    "scrolled": true
   },
   "outputs": [
    {
     "name": "stdout",
     "output_type": "stream",
     "text": [
      "              time  precipitation  temperature  irradiance_surface  \\\n",
      "0  1980-01-01 0:00         0.0024       -8.716                 0.0   \n",
      "1  1980-01-01 1:00         0.0038       -8.812                 0.0   \n",
      "2  1980-01-01 2:00         0.0036       -8.908                 0.0   \n",
      "3  1980-01-01 3:00         0.0024       -9.016                 0.0   \n",
      "4  1980-01-01 4:00         0.0015       -9.210                 0.0   \n",
      "\n",
      "   irradiance_toa  snowfall  snow_mass  cloud_cover  air_density  \n",
      "0             0.0    0.0023    27.2565       0.9694       1.1839  \n",
      "1             0.0    0.0038    27.2613       0.9711       1.1851  \n",
      "2             0.0    0.0035    27.2663       0.9675       1.1862  \n",
      "3             0.0    0.0024    27.2696       0.9465       1.1878  \n",
      "4             0.0    0.0015    27.2716       0.9216       1.1897  \n",
      "0          1980-01-01 0:00\n",
      "1          1980-01-01 1:00\n",
      "2          1980-01-01 2:00\n",
      "3          1980-01-01 3:00\n",
      "4          1980-01-01 4:00\n",
      "                ...       \n",
      "350635    2019-12-31 19:00\n",
      "350636    2019-12-31 20:00\n",
      "350637    2019-12-31 21:00\n",
      "350638    2019-12-31 22:00\n",
      "350639    2019-12-31 23:00\n",
      "Name: time, Length: 350640, dtype: object\n"
     ]
    }
   ],
   "source": [
    "cloud_covering.time = pd.to_datetime(cloud_covering.time)"
   ]
  },
  {
   "cell_type": "code",
   "execution_count": 30,
   "metadata": {
    "pycharm": {
     "name": "#%%\n"
    },
    "scrolled": true
   },
   "outputs": [
    {
     "name": "stdout",
     "output_type": "stream",
     "text": [
      "                 time  cloud_cover\n",
      "0 1980-01-01 00:00:00       0.9694\n",
      "1 1980-01-01 01:00:00       0.9711\n",
      "2 1980-01-01 02:00:00       0.9675\n",
      "3 1980-01-01 03:00:00       0.9465\n",
      "4 1980-01-01 04:00:00       0.9216\n"
     ]
    }
   ],
   "source": [
    "prediction = cloud_covering[[\"time\",\"cloud_cover\"]]\n",
    "print(prediction.head())"
   ]
  },
  {
   "cell_type": "code",
   "execution_count": null,
   "metadata": {
    "pycharm": {
     "name": "#%%\n"
    }
   },
   "outputs": [],
   "source": []
  },
  {
   "cell_type": "code",
   "execution_count": null,
   "metadata": {},
   "outputs": [],
   "source": []
  }
 ],
 "metadata": {
  "kernelspec": {
   "display_name": "Python 3 (ipykernel)",
   "language": "python",
   "name": "python3"
  },
  "language_info": {
   "codemirror_mode": {
    "name": "ipython",
    "version": 3
   },
   "file_extension": ".py",
   "mimetype": "text/x-python",
   "name": "python",
   "nbconvert_exporter": "python",
   "pygments_lexer": "ipython3",
   "version": "3.9.7"
  }
 },
 "nbformat": 4,
 "nbformat_minor": 1
}
